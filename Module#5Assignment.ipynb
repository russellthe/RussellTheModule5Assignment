{
 "cells": [
  {
   "cell_type": "code",
   "execution_count": 16,
   "metadata": {},
   "outputs": [
    {
     "name": "stdout",
     "output_type": "stream",
     "text": [
      "box: ((0,0),100,200)\n",
      "bomb: ((100,80),5,10)\n",
      "((10,20),30,40)\n",
      "((0,0),30,40)\n",
      "((0,0),30,40)\n",
      "((100,100),30,40)\n"
     ]
    }
   ],
   "source": [
    "\"\"\"\n",
    "This program simulates the use of the Rectangle and Point classes.\n",
    "Functions such as create_rectangle, shift_rectangle, offset_rectangle and str_rectangle \n",
    "was created to facilitate the simulation process.\n",
    "\"\"\"\n",
    "\n",
    "\"\"\"A class to manufacture Rectangle objects\"\"\"\n",
    "class Rectangle:    \n",
    "    def __init__(self,posn,w,h):\n",
    "        self.corner = posn\n",
    "        self.width = w\n",
    "        self.height = h\n",
    "        \n",
    "    def __str__(self):\n",
    "        return \"({0},{1},{2})\".format(self.corner,self.width,self.height)\n",
    "\n",
    "\"\"\"A class to manufacture Point objects (xCoord,yCoord)\"\"\"\n",
    "class Point:\n",
    "    def __init__(self,x,y):\n",
    "        self.xCoord = x\n",
    "        self.yCoord = y\n",
    "        \n",
    "    def __str__(self):\n",
    "        return \"({0},{1})\".format(self.xCoord,self.yCoord) \n",
    "\n",
    "\n",
    "box = Rectangle(Point(0,0),100,200)\n",
    "bomb = Rectangle(Point(100,80),5,10)\n",
    "\n",
    "print(\"box:\",box)\n",
    "print(\"bomb:\",bomb)\n",
    "\n",
    "\"\"\"\n",
    "A function that creates a Rectangle object with the specified coordinates and dimensions\n",
    "\"\"\"\n",
    "def create_rectangle(x,y,width,height):\n",
    "    return Rectangle(Point(x,y),width,height)\n",
    "\n",
    "\"\"\"\n",
    "A function that displays the attributes of a rectangle object\n",
    "\"\"\"\n",
    "def str_rectangle(rect):\n",
    "    return rect.__str__()\n",
    "\n",
    "\"\"\"\n",
    "A function that changes the x and y coordinates of the given Rectangle instance\n",
    "\"\"\"\n",
    "def shift_rectangle(rect,dx,dy):\n",
    "    rect.corner.xCoord += dx\n",
    "    rect.corner.yCoord += dy\n",
    "    newPoint = Point(rect.corner.xCoord,rect.corner.yCoord)\n",
    "\n",
    "\"\"\"\n",
    "A function that creates a new Rectangle instance which is offset from the given\n",
    "instance in x and y coordinates by dx and dy respectively\n",
    "\"\"\"\n",
    "def offset_rectangle(rect,dx,dy):\n",
    "    newPoint = Point(dx,dy)\n",
    "    return Rectangle(newPoint,rect.width,rect.height)\n",
    "\n",
    "r1 = create_rectangle(10,20,30,40)\n",
    "print(str_rectangle(r1))\n",
    "shift_rectangle(r1,-10,-20)\n",
    "print(str_rectangle(r1))\n",
    "\n",
    "r2 = offset_rectangle(r1,100,100)\n",
    "print(str_rectangle(r1))\n",
    "print(str_rectangle(r2))\n"
   ]
  },
  {
   "cell_type": "code",
   "execution_count": 19,
   "metadata": {},
   "outputs": [],
   "source": []
  },
  {
   "cell_type": "code",
   "execution_count": null,
   "metadata": {},
   "outputs": [],
   "source": []
  }
 ],
 "metadata": {
  "kernelspec": {
   "display_name": "Python 3",
   "language": "python",
   "name": "python3"
  },
  "language_info": {
   "codemirror_mode": {
    "name": "ipython",
    "version": 3
   },
   "file_extension": ".py",
   "mimetype": "text/x-python",
   "name": "python",
   "nbconvert_exporter": "python",
   "pygments_lexer": "ipython3",
   "version": "3.7.4"
  }
 },
 "nbformat": 4,
 "nbformat_minor": 2
}
